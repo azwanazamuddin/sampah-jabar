{
 "cells": [
  {
   "cell_type": "code",
   "execution_count": 3,
   "metadata": {},
   "outputs": [],
   "source": [
    "import numpy as np\n",
    "import matplotlib.pyplot as plt \n",
    "import pandas as pd  \n",
    "import seaborn as sns \n",
    "import os"
   ]
  },
  {
   "cell_type": "markdown",
   "metadata": {},
   "source": [
    "## Import Data"
   ]
  },
  {
   "cell_type": "code",
   "execution_count": 4,
   "metadata": {},
   "outputs": [],
   "source": [
    "# Mengimpor data\n",
    "main_data = pd.read_excel('main_data.xlsx').iloc[:,4:]"
   ]
  },
  {
   "cell_type": "code",
   "execution_count": 5,
   "metadata": {},
   "outputs": [
    {
     "data": {
      "text/html": [
       "<div>\n",
       "<style scoped>\n",
       "    .dataframe tbody tr th:only-of-type {\n",
       "        vertical-align: middle;\n",
       "    }\n",
       "\n",
       "    .dataframe tbody tr th {\n",
       "        vertical-align: top;\n",
       "    }\n",
       "\n",
       "    .dataframe thead th {\n",
       "        text-align: right;\n",
       "    }\n",
       "</style>\n",
       "<table border=\"1\" class=\"dataframe\">\n",
       "  <thead>\n",
       "    <tr style=\"text-align: right;\">\n",
       "      <th></th>\n",
       "      <th>VP</th>\n",
       "      <th>POP</th>\n",
       "      <th>RC</th>\n",
       "      <th>OC</th>\n",
       "      <th>UU</th>\n",
       "      <th>IPEND</th>\n",
       "      <th>IPENG</th>\n",
       "      <th>TKI</th>\n",
       "    </tr>\n",
       "  </thead>\n",
       "  <tbody>\n",
       "    <tr>\n",
       "      <th>0</th>\n",
       "      <td>1182411</td>\n",
       "      <td>5459668</td>\n",
       "      <td>22801199.16</td>\n",
       "      <td>861621</td>\n",
       "      <td>15242</td>\n",
       "      <td>58.68</td>\n",
       "      <td>68.14</td>\n",
       "      <td>3652300</td>\n",
       "    </tr>\n",
       "    <tr>\n",
       "      <th>1</th>\n",
       "      <td>1179833</td>\n",
       "      <td>2434221</td>\n",
       "      <td>15308903.34</td>\n",
       "      <td>773783</td>\n",
       "      <td>15801</td>\n",
       "      <td>55.41</td>\n",
       "      <td>62.73</td>\n",
       "      <td>2231250</td>\n",
       "    </tr>\n",
       "    <tr>\n",
       "      <th>2</th>\n",
       "      <td>646436</td>\n",
       "      <td>2243904</td>\n",
       "      <td>11298225.95</td>\n",
       "      <td>682323</td>\n",
       "      <td>1257</td>\n",
       "      <td>54.66</td>\n",
       "      <td>58.69</td>\n",
       "      <td>1597440</td>\n",
       "    </tr>\n",
       "    <tr>\n",
       "      <th>3</th>\n",
       "      <td>4813250</td>\n",
       "      <td>3534114</td>\n",
       "      <td>18307706.43</td>\n",
       "      <td>816764</td>\n",
       "      <td>13999</td>\n",
       "      <td>61.75</td>\n",
       "      <td>68.16</td>\n",
       "      <td>2325400</td>\n",
       "    </tr>\n",
       "    <tr>\n",
       "      <th>4</th>\n",
       "      <td>604112</td>\n",
       "      <td>2548723</td>\n",
       "      <td>12523549.46</td>\n",
       "      <td>610757</td>\n",
       "      <td>9846</td>\n",
       "      <td>55.18</td>\n",
       "      <td>58.69</td>\n",
       "      <td>1703200</td>\n",
       "    </tr>\n",
       "    <tr>\n",
       "      <th>...</th>\n",
       "      <td>...</td>\n",
       "      <td>...</td>\n",
       "      <td>...</td>\n",
       "      <td>...</td>\n",
       "      <td>...</td>\n",
       "      <td>...</td>\n",
       "      <td>...</td>\n",
       "      <td>...</td>\n",
       "    </tr>\n",
       "    <tr>\n",
       "      <th>103</th>\n",
       "      <td>6294557</td>\n",
       "      <td>2931897</td>\n",
       "      <td>22458187.79</td>\n",
       "      <td>1670748</td>\n",
       "      <td>10418</td>\n",
       "      <td>75.19</td>\n",
       "      <td>84.03</td>\n",
       "      <td>1310040</td>\n",
       "    </tr>\n",
       "    <tr>\n",
       "      <th>104</th>\n",
       "      <td>4902524</td>\n",
       "      <td>2330333</td>\n",
       "      <td>19730607.31</td>\n",
       "      <td>1561971</td>\n",
       "      <td>10540</td>\n",
       "      <td>74.78</td>\n",
       "      <td>83.06</td>\n",
       "      <td>1742180</td>\n",
       "    </tr>\n",
       "    <tr>\n",
       "      <th>105</th>\n",
       "      <td>1464770</td>\n",
       "      <td>607811</td>\n",
       "      <td>34867094.93</td>\n",
       "      <td>1396817</td>\n",
       "      <td>6181</td>\n",
       "      <td>74.72</td>\n",
       "      <td>75.51</td>\n",
       "      <td>1948770</td>\n",
       "    </tr>\n",
       "    <tr>\n",
       "      <th>106</th>\n",
       "      <td>1217229</td>\n",
       "      <td>662723</td>\n",
       "      <td>22421475.77</td>\n",
       "      <td>1140712</td>\n",
       "      <td>10005</td>\n",
       "      <td>67.41</td>\n",
       "      <td>69.69</td>\n",
       "      <td>1241420</td>\n",
       "    </tr>\n",
       "    <tr>\n",
       "      <th>107</th>\n",
       "      <td>335542</td>\n",
       "      <td>182819</td>\n",
       "      <td>16775232.92</td>\n",
       "      <td>1217784</td>\n",
       "      <td>9798</td>\n",
       "      <td>65.33</td>\n",
       "      <td>71.13</td>\n",
       "      <td>1598220</td>\n",
       "    </tr>\n",
       "  </tbody>\n",
       "</table>\n",
       "<p>108 rows × 8 columns</p>\n",
       "</div>"
      ],
      "text/plain": [
       "          VP      POP           RC       OC     UU  IPEND  IPENG      TKI\n",
       "0    1182411  5459668  22801199.16   861621  15242  58.68  68.14  3652300\n",
       "1    1179833  2434221  15308903.34   773783  15801  55.41  62.73  2231250\n",
       "2     646436  2243904  11298225.95   682323   1257  54.66  58.69  1597440\n",
       "3    4813250  3534114  18307706.43   816764  13999  61.75  68.16  2325400\n",
       "4     604112  2548723  12523549.46   610757   9846  55.18  58.69  1703200\n",
       "..       ...      ...          ...      ...    ...    ...    ...      ...\n",
       "103  6294557  2931897  22458187.79  1670748  10418  75.19  84.03  1310040\n",
       "104  4902524  2330333  19730607.31  1561971  10540  74.78  83.06  1742180\n",
       "105  1464770   607811  34867094.93  1396817   6181  74.72  75.51  1948770\n",
       "106  1217229   662723  22421475.77  1140712  10005  67.41  69.69  1241420\n",
       "107   335542   182819  16775232.92  1217784   9798  65.33  71.13  1598220\n",
       "\n",
       "[108 rows x 8 columns]"
      ]
     },
     "execution_count": 5,
     "metadata": {},
     "output_type": "execute_result"
    }
   ],
   "source": [
    "main_data"
   ]
  },
  {
   "cell_type": "markdown",
   "metadata": {},
   "source": [
    "Keterangan satuan variabel dataset </br>\n",
    "**Variabel Dependent** </br>\n",
    "* volume_produksi sampah: liter/hari\n",
    "\n",
    "**Variabel Independent** </br>\n",
    "\n",
    "* populasi: orang\n",
    "* rev_capita (PDRB per kapita atas dasar harga konstan): rupiah\n",
    "* pengeluatan per kapita sebulan: rupiah\n",
    "* \n",
    "\n"
   ]
  },
  {
   "cell_type": "markdown",
   "metadata": {},
   "source": [
    "## Exploratory Data Analysis"
   ]
  },
  {
   "cell_type": "code",
   "execution_count": 6,
   "metadata": {},
   "outputs": [
    {
     "data": {
      "image/png": "[encoded data removed]",
      "text/plain": [
       "<Figure size 720x720 with 9 Axes>"
      ]
     },
     "metadata": {
      "needs_background": "light"
     },
     "output_type": "display_data"
    }
   ],
   "source": [
    "main_data.hist(figsize=(10,10))\n",
    "plt.show()"
   ]
  },
  {
   "cell_type": "code",
   "execution_count": 7,
   "metadata": {},
   "outputs": [
    {
     "data": {
      "image/png": "[encoded data removed]",
      "text/plain": [
       "<Figure size 720x720 with 9 Axes>"
      ]
     },
     "metadata": {
      "needs_background": "light"
     },
     "output_type": "display_data"
    }
   ],
   "source": [
    "data_log = np.log(main_data)\n",
    "data_log.hist(figsize=(10,10))\n",
    "plt.show()"
   ]
  },
  {
   "cell_type": "code",
   "execution_count": 8,
   "metadata": {},
   "outputs": [
    {
     "data": {
      "text/plain": [
       "<AxesSubplot:>"
      ]
     },
     "execution_count": 8,
     "metadata": {},
     "output_type": "execute_result"
    },
    {
     "data": {
      "image/png": "[encoded data removed]",
      "text/plain": [
       "<Figure size 720x720 with 2 Axes>"
      ]
     },
     "metadata": {
      "needs_background": "light"
     },
     "output_type": "display_data"
    }
   ],
   "source": [
    "plt.figure(figsize=(10,10))\n",
    "correlation_matrix = data_log.corr().round(2)\n",
    "sns.heatmap(data=correlation_matrix, annot=True)"
   ]
  },
  {
   "cell_type": "markdown",
   "metadata": {},
   "source": [
    "Distribusi variabel volume sampah"
   ]
  },
  {
   "cell_type": "code",
   "execution_count": 28,
   "metadata": {},
   "outputs": [
    {
     "name": "stdout",
     "output_type": "stream",
     "text": [
      "0      13.983066\n",
      "1      13.980883\n",
      "2      13.379229\n",
      "3      15.386883\n",
      "4      13.311515\n",
      "         ...    \n",
      "103    15.655196\n",
      "104    15.405261\n",
      "105    14.197209\n",
      "106    14.012088\n",
      "107    12.723502\n",
      "Name: VP, Length: 108, dtype: float64\n",
      "           POP         OC     IPEND     IPENG\n",
      "0    15.512899  13.666571  4.072099  4.221564\n",
      "1    14.705137  13.559047  4.014760  4.138840\n",
      "2    14.623728  13.433258  4.001132  4.072269\n",
      "3    15.077973  13.613105  4.123094  4.221858\n",
      "4    14.751103  13.322454  4.010601  4.072269\n",
      "..         ...        ...       ...       ...\n",
      "103  14.891160  14.328782  4.320018  4.431174\n",
      "104  14.661522  14.261459  4.314550  4.419563\n",
      "105  13.317619  14.149707  4.313748  4.324265\n",
      "106  13.404112  13.947163  4.210793  4.244057\n",
      "107  12.116252  14.012543  4.179451  4.264509\n",
      "\n",
      "[108 rows x 4 columns]\n"
     ]
    }
   ],
   "source": [
    "# pisahin x sama y\n",
    "y = data_log['VP']\n",
    "x = data_log.iloc[:,[1,3,5,6]]\n",
    "print(y)\n",
    "print(x)"
   ]
  },
  {
   "cell_type": "code",
   "execution_count": 11,
   "metadata": {},
   "outputs": [
    {
     "data": {
      "image/png": "[encoded data removed]",
      "text/plain": [
       "<Figure size 432x288 with 1 Axes>"
      ]
     },
     "metadata": {
      "needs_background": "light"
     },
     "output_type": "display_data"
    }
   ],
   "source": [
    "# Cek distribusi outcome variabel\n",
    "sns.histplot(y, stat='count')\n",
    "plt.show()"
   ]
  },
  {
   "cell_type": "markdown",
   "metadata": {},
   "source": [
    "## Model\n",
    "$$\n",
    "log(VP) = \\alpha_{1}+\\alpha_{2}log(POP)+\\alpha_{3}log(OC)+\\alpha_{4}log(IPEND)+\\alpha_{5}log(IPENG)$$"
   ]
  },
  {
   "cell_type": "code",
   "execution_count": 29,
   "metadata": {},
   "outputs": [
    {
     "name": "stdout",
     "output_type": "stream",
     "text": [
      "           POP         OC     IPEND     IPENG\n",
      "22   14.814238  13.938178  4.287716  4.415945\n",
      "35   14.577717  13.590956  4.003325  4.226104\n",
      "46   12.679499  13.943020  4.220977  4.242477\n",
      "87   13.988311  13.891849  4.148043  4.212868\n",
      "86   14.375866  13.723497  4.067829  4.133405\n",
      "..         ...        ...       ...       ...\n",
      "16   14.303737  13.430733  4.038479  4.118061\n",
      "102  12.664374  13.907160  4.238878  4.305820\n",
      "61   13.881486  13.750289  4.060443  4.189806\n",
      "78   13.306515  14.045216  4.312944  4.304200\n",
      "99   13.907933  14.114101  4.269697  4.304065\n",
      "\n",
      "[86 rows x 4 columns]\n",
      "           POP         OC     IPEND     IPENG\n",
      "85   14.773480  13.866913  4.056643  4.122932\n",
      "10   13.944144  13.633537  4.117247  4.217299\n",
      "20   14.724361  13.899648  4.289774  4.427717\n",
      "23   14.560349  13.948782  4.294697  4.398515\n",
      "63   13.992589  13.772650  4.040064  4.194793\n",
      "54   15.558606  13.991895  4.105285  4.246064\n",
      "42   15.030925  14.121316  4.148517  4.268858\n",
      "56   14.629365  13.684145  4.026958  4.102974\n",
      "28   14.709399  13.566784  4.030695  4.152771\n",
      "66   14.261803  13.906855  4.010601  4.259294\n",
      "69   15.068280  14.208749  4.166355  4.283035\n",
      "72   13.893405  13.975141  4.268858  4.288814\n",
      "74   14.730976  14.215465  4.302848  4.437461\n",
      "6    13.971387  13.422591  4.136126  4.165579\n",
      "40   13.745840  13.814706  4.053002  4.280686\n",
      "17   12.875140  13.654411  4.040064  4.163715\n",
      "59   14.373593  13.682732  4.066802  4.099498\n",
      "50   14.594750  14.070609  4.309053  4.402074\n",
      "91   13.955191  13.824419  4.145988  4.257030\n",
      "101  14.733283  14.254109  4.315085  4.450619\n",
      "48   12.645894  13.738270  4.237145  4.284414\n",
      "39   14.251182  13.746376  3.994892  4.250921\n",
      "(86, 4)\n",
      "(22, 4)\n",
      "(86,)\n",
      "(22,)\n"
     ]
    }
   ],
   "source": [
    "from sklearn.model_selection import train_test_split\n",
    "\n",
    "# splits the training and test data set in 80% : 20%\n",
    "# assign random_state to any value.This ensures consistency.\n",
    "X_train, X_test, Y_train, Y_test = train_test_split(x, y, test_size = 0.2, random_state=5)\n",
    "print(X_train)\n",
    "print(X_test)\n",
    "print(X_train.shape)\n",
    "print(X_test.shape)\n",
    "print(Y_train.shape)\n",
    "print(Y_test.shape)"
   ]
  },
  {
   "cell_type": "code",
   "execution_count": 30,
   "metadata": {},
   "outputs": [
    {
     "data": {
      "text/plain": [
       "LinearRegression()"
      ]
     },
     "execution_count": 30,
     "metadata": {},
     "output_type": "execute_result"
    }
   ],
   "source": [
    "from sklearn.linear_model import LinearRegression\n",
    "from sklearn.metrics import mean_squared_error, r2_score\n",
    "\n",
    "lin_model = LinearRegression()\n",
    "lin_model.fit(X_train, Y_train)"
   ]
  },
  {
   "cell_type": "markdown",
   "metadata": {},
   "source": [
    "## Evaluasi Model"
   ]
  },
  {
   "cell_type": "code",
   "execution_count": 31,
   "metadata": {},
   "outputs": [
    {
     "name": "stdout",
     "output_type": "stream",
     "text": [
      "The model performance for training set\n",
      "--------------------------------------\n",
      "RMSE is 0.738026705709209\n",
      "R2 score is 0.11250586374726601\n",
      "\n",
      "\n",
      "The model performance for testing set\n",
      "--------------------------------------\n",
      "RMSE is 0.7356278958005326\n",
      "R2 score is 0.1303607391599787\n"
     ]
    }
   ],
   "source": [
    "# model evaluation for training set\n",
    "\n",
    "y_train_predict = lin_model.predict(X_train)\n",
    "rmse = (np.sqrt(mean_squared_error(Y_train, y_train_predict)))\n",
    "r2 = r2_score(Y_train, y_train_predict)\n",
    "\n",
    "print(\"The model performance for training set\")\n",
    "print(\"--------------------------------------\")\n",
    "print('RMSE is {}'.format(rmse))\n",
    "print('R2 score is {}'.format(r2))\n",
    "print(\"\\n\")\n",
    "\n",
    "# model evaluation for testing set\n",
    "\n",
    "y_test_predict = lin_model.predict(X_test)\n",
    "# root mean square error of the model\n",
    "rmse = (np.sqrt(mean_squared_error(Y_test, y_test_predict)))\n",
    "\n",
    "# r-squared score of the model\n",
    "r2 = r2_score(Y_test, y_test_predict)\n",
    "\n",
    "print(\"The model performance for testing set\")\n",
    "print(\"--------------------------------------\")\n",
    "print('RMSE is {}'.format(rmse))\n",
    "print('R2 score is {}'.format(r2))"
   ]
  },
  {
   "cell_type": "code",
   "execution_count": 15,
   "metadata": {},
   "outputs": [
    {
     "data": {
      "image/png": "[encoded data removed]",
      "text/plain": [
       "<Figure size 432x288 with 1 Axes>"
      ]
     },
     "metadata": {
      "needs_background": "light"
     },
     "output_type": "display_data"
    }
   ],
   "source": [
    "plt.scatter(Y_test, y_test_predict)\n",
    "plt.show()"
   ]
  },
  {
   "cell_type": "code",
   "execution_count": 32,
   "metadata": {},
   "outputs": [],
   "source": [
    "import pickle\n",
    "pickle.dump(lin_model, open('./model.pkl', 'wb'))"
   ]
  },
  {
   "cell_type": "code",
   "execution_count": 37,
   "metadata": {},
   "outputs": [
    {
     "data": {
      "text/html": [
       "<div>\n",
       "<style scoped>\n",
       "    .dataframe tbody tr th:only-of-type {\n",
       "        vertical-align: middle;\n",
       "    }\n",
       "\n",
       "    .dataframe tbody tr th {\n",
       "        vertical-align: top;\n",
       "    }\n",
       "\n",
       "    .dataframe thead th {\n",
       "        text-align: right;\n",
       "    }\n",
       "</style>\n",
       "<table border=\"1\" class=\"dataframe\">\n",
       "  <thead>\n",
       "    <tr style=\"text-align: right;\">\n",
       "      <th></th>\n",
       "      <th>VP</th>\n",
       "      <th>POP</th>\n",
       "      <th>RC</th>\n",
       "      <th>OC</th>\n",
       "      <th>UU</th>\n",
       "      <th>IPEND</th>\n",
       "      <th>IPENG</th>\n",
       "      <th>TKI</th>\n",
       "    </tr>\n",
       "  </thead>\n",
       "  <tbody>\n",
       "    <tr>\n",
       "      <th>count</th>\n",
       "      <td>1.080000e+02</td>\n",
       "      <td>1.080000e+02</td>\n",
       "      <td>1.080000e+02</td>\n",
       "      <td>1.080000e+02</td>\n",
       "      <td>108.000000</td>\n",
       "      <td>108.000000</td>\n",
       "      <td>108.000000</td>\n",
       "      <td>1.080000e+02</td>\n",
       "    </tr>\n",
       "    <tr>\n",
       "      <th>mean</th>\n",
       "      <td>1.996094e+06</td>\n",
       "      <td>1.766765e+06</td>\n",
       "      <td>2.603577e+07</td>\n",
       "      <td>1.021595e+06</td>\n",
       "      <td>7834.768519</td>\n",
       "      <td>62.228889</td>\n",
       "      <td>69.638241</td>\n",
       "      <td>1.908560e+06</td>\n",
       "    </tr>\n",
       "    <tr>\n",
       "      <th>std</th>\n",
       "      <td>1.714136e+06</td>\n",
       "      <td>1.207772e+06</td>\n",
       "      <td>1.636243e+07</td>\n",
       "      <td>2.354792e+05</td>\n",
       "      <td>4634.190029</td>\n",
       "      <td>6.805955</td>\n",
       "      <td>6.300936</td>\n",
       "      <td>1.272153e+06</td>\n",
       "    </tr>\n",
       "    <tr>\n",
       "      <th>min</th>\n",
       "      <td>3.305670e+05</td>\n",
       "      <td>1.814250e+05</td>\n",
       "      <td>1.129823e+07</td>\n",
       "      <td>5.874700e+05</td>\n",
       "      <td>214.000000</td>\n",
       "      <td>51.790000</td>\n",
       "      <td>58.690000</td>\n",
       "      <td>9.790000e+03</td>\n",
       "    </tr>\n",
       "    <tr>\n",
       "      <th>25%</th>\n",
       "      <td>7.832455e+05</td>\n",
       "      <td>9.508948e+05</td>\n",
       "      <td>1.560449e+07</td>\n",
       "      <td>8.468110e+05</td>\n",
       "      <td>2527.000000</td>\n",
       "      <td>56.695000</td>\n",
       "      <td>65.502500</td>\n",
       "      <td>1.305550e+06</td>\n",
       "    </tr>\n",
       "    <tr>\n",
       "      <th>50%</th>\n",
       "      <td>1.211173e+06</td>\n",
       "      <td>1.657448e+06</td>\n",
       "      <td>1.868715e+07</td>\n",
       "      <td>1.000950e+06</td>\n",
       "      <td>9540.500000</td>\n",
       "      <td>60.115000</td>\n",
       "      <td>69.175000</td>\n",
       "      <td>1.667640e+06</td>\n",
       "    </tr>\n",
       "    <tr>\n",
       "      <th>75%</th>\n",
       "      <td>2.532243e+06</td>\n",
       "      <td>2.436820e+06</td>\n",
       "      <td>3.080354e+07</td>\n",
       "      <td>1.145112e+06</td>\n",
       "      <td>10864.250000</td>\n",
       "      <td>67.582500</td>\n",
       "      <td>72.292500</td>\n",
       "      <td>1.965652e+06</td>\n",
       "    </tr>\n",
       "    <tr>\n",
       "      <th>max</th>\n",
       "      <td>6.312446e+06</td>\n",
       "      <td>5.840907e+06</td>\n",
       "      <td>7.392403e+07</td>\n",
       "      <td>1.670748e+06</td>\n",
       "      <td>16165.000000</td>\n",
       "      <td>75.190000</td>\n",
       "      <td>85.680000</td>\n",
       "      <td>8.453930e+06</td>\n",
       "    </tr>\n",
       "  </tbody>\n",
       "</table>\n",
       "</div>"
      ],
      "text/plain": [
       "                 VP           POP            RC            OC            UU  \\\n",
       "count  1.080000e+02  1.080000e+02  1.080000e+02  1.080000e+02    108.000000   \n",
       "mean   1.996094e+06  1.766765e+06  2.603577e+07  1.021595e+06   7834.768519   \n",
       "std    1.714136e+06  1.207772e+06  1.636243e+07  2.354792e+05   4634.190029   \n",
       "min    3.305670e+05  1.814250e+05  1.129823e+07  5.874700e+05    214.000000   \n",
       "25%    7.832455e+05  9.508948e+05  1.560449e+07  8.468110e+05   2527.000000   \n",
       "50%    1.211173e+06  1.657448e+06  1.868715e+07  1.000950e+06   9540.500000   \n",
       "75%    2.532243e+06  2.436820e+06  3.080354e+07  1.145112e+06  10864.250000   \n",
       "max    6.312446e+06  5.840907e+06  7.392403e+07  1.670748e+06  16165.000000   \n",
       "\n",
       "            IPEND       IPENG           TKI  \n",
       "count  108.000000  108.000000  1.080000e+02  \n",
       "mean    62.228889   69.638241  1.908560e+06  \n",
       "std      6.805955    6.300936  1.272153e+06  \n",
       "min     51.790000   58.690000  9.790000e+03  \n",
       "25%     56.695000   65.502500  1.305550e+06  \n",
       "50%     60.115000   69.175000  1.667640e+06  \n",
       "75%     67.582500   72.292500  1.965652e+06  \n",
       "max     75.190000   85.680000  8.453930e+06  "
      ]
     },
     "execution_count": 37,
     "metadata": {},
     "output_type": "execute_result"
    }
   ],
   "source": [
    "main_data.describe()"
   ]
  },
  {
   "cell_type": "code",
   "execution_count": 33,
   "metadata": {},
   "outputs": [],
   "source": [
    "# Mengunggah model\n",
    "model_file = open('model.pkl', 'rb')\n",
    "model_new = pickle.load(model_file, encoding='bytes')\n",
    "cobain = [[109801, 1000000, 80, 90]]"
   ]
  },
  {
   "cell_type": "code",
   "execution_count": 36,
   "metadata": {},
   "outputs": [
    {
     "name": "stderr",
     "output_type": "stream",
     "text": [
      "/home/peminumyakult/anaconda3/envs/penv/lib/python3.8/site-packages/sklearn/base.py:445: UserWarning: X does not have valid feature names, but LinearRegression was fitted with feature names\n",
      "  warnings.warn(\n"
     ]
    },
    {
     "data": {
      "text/plain": [
       "785682.8716848042"
      ]
     },
     "execution_count": 36,
     "metadata": {},
     "output_type": "execute_result"
    }
   ],
   "source": [
    "prediction = model_new.predict(np.log(cobain))\n",
    "output = np.exp(prediction)\n",
    "output[0]"
   ]
  }
 ],
 "metadata": {
  "interpreter": {
   "hash": "19ab77197897466807dff51413d5d263803ee2766be42e2a4421cb815f302072"
  },
  "kernelspec": {
   "display_name": "Python 3.8.11 64-bit ('penv': conda)",
   "language": "python",
   "name": "python3"
  },
  "language_info": {
   "codemirror_mode": {
    "name": "ipython",
    "version": 3
   },
   "file_extension": ".py",
   "mimetype": "text/x-python",
   "name": "python",
   "nbconvert_exporter": "python",
   "pygments_lexer": "ipython3",
   "version": "3.8.11"
  },
  "orig_nbformat": 4
 },
 "nbformat": 4,
 "nbformat_minor": 2
}
